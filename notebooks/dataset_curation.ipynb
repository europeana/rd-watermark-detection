{
 "cells": [
  {
   "cell_type": "code",
   "execution_count": 24,
   "id": "a32ae8ad-6097-4f3f-ba8e-2c50a5edf278",
   "metadata": {},
   "outputs": [
    {
     "name": "stdout",
     "output_type": "stream",
     "text": [
      "(379, 3)\n"
     ]
    }
   ],
   "source": [
    "import pandas as pd\n",
    "import os\n",
    "from pathlib import Path\n",
    "import pyeuropeana.apis as apis\n",
    "import pyeuropeana.utils as utils\n",
    "\n",
    "os.environ['EUROPEANA_API_KEY'] = 'api2demo'\n",
    "\n",
    "def get_image_url(europeana_id):\n",
    "    try:\n",
    "        data = apis.record(europeana_id)\n",
    "        image_url = data['object']['aggregations'][0]['edmIsShownBy']\n",
    "    except:\n",
    "        image_url = None\n",
    "    return image_url\n",
    "\n",
    "path = '/storage/results/watermark_record_sample_lr_1e-5/split_1/misclassifications.csv'\n",
    "output_path = '/storage/results/watermark_record_sample_lr_1e-5/split_1/misclassifications_with_url.csv'\n",
    "df = pd.read_csv(path)\n",
    "print(df.shape)\n",
    "df['europeana_id'] = df['path'].apply(lambda x: Path(x).stem.replace('[ph]','/'))\n",
    "df['image_url'] = df['europeana_id'].apply(get_image_url)\n",
    "df.to_csv(output_path,index = False)\n",
    "\n",
    "\n",
    "\n"
   ]
  },
  {
   "cell_type": "code",
   "execution_count": 3,
   "id": "94790b33-fddf-45ca-9119-6b81b25ac136",
   "metadata": {},
   "outputs": [
    {
     "data": {
      "text/html": [
       "<div>\n",
       "<style scoped>\n",
       "    .dataframe tbody tr th:only-of-type {\n",
       "        vertical-align: middle;\n",
       "    }\n",
       "\n",
       "    .dataframe tbody tr th {\n",
       "        vertical-align: top;\n",
       "    }\n",
       "\n",
       "    .dataframe thead th {\n",
       "        text-align: right;\n",
       "    }\n",
       "</style>\n",
       "<table border=\"1\" class=\"dataframe\">\n",
       "  <thead>\n",
       "    <tr style=\"text-align: right;\">\n",
       "      <th></th>\n",
       "      <th>path</th>\n",
       "      <th>predictions</th>\n",
       "      <th>labels</th>\n",
       "    </tr>\n",
       "  </thead>\n",
       "  <tbody>\n",
       "    <tr>\n",
       "      <th>0</th>\n",
       "      <td>/storage/data/watermark_record_sample/watermar...</td>\n",
       "      <td>no_watermark</td>\n",
       "      <td>watermark</td>\n",
       "    </tr>\n",
       "    <tr>\n",
       "      <th>1</th>\n",
       "      <td>/storage/data/watermark_record_sample/watermar...</td>\n",
       "      <td>no_watermark</td>\n",
       "      <td>watermark</td>\n",
       "    </tr>\n",
       "    <tr>\n",
       "      <th>2</th>\n",
       "      <td>/storage/data/watermark_record_sample/watermar...</td>\n",
       "      <td>no_watermark</td>\n",
       "      <td>watermark</td>\n",
       "    </tr>\n",
       "    <tr>\n",
       "      <th>3</th>\n",
       "      <td>/storage/data/watermark_record_sample/watermar...</td>\n",
       "      <td>no_watermark</td>\n",
       "      <td>watermark</td>\n",
       "    </tr>\n",
       "    <tr>\n",
       "      <th>4</th>\n",
       "      <td>/storage/data/watermark_record_sample/watermar...</td>\n",
       "      <td>no_watermark</td>\n",
       "      <td>watermark</td>\n",
       "    </tr>\n",
       "    <tr>\n",
       "      <th>...</th>\n",
       "      <td>...</td>\n",
       "      <td>...</td>\n",
       "      <td>...</td>\n",
       "    </tr>\n",
       "    <tr>\n",
       "      <th>395</th>\n",
       "      <td>/storage/data/watermark_record_sample/no_water...</td>\n",
       "      <td>watermark</td>\n",
       "      <td>no_watermark</td>\n",
       "    </tr>\n",
       "    <tr>\n",
       "      <th>396</th>\n",
       "      <td>/storage/data/watermark_record_sample/no_water...</td>\n",
       "      <td>watermark</td>\n",
       "      <td>no_watermark</td>\n",
       "    </tr>\n",
       "    <tr>\n",
       "      <th>397</th>\n",
       "      <td>/storage/data/watermark_record_sample/no_water...</td>\n",
       "      <td>watermark</td>\n",
       "      <td>no_watermark</td>\n",
       "    </tr>\n",
       "    <tr>\n",
       "      <th>398</th>\n",
       "      <td>/storage/data/watermark_record_sample/no_water...</td>\n",
       "      <td>watermark</td>\n",
       "      <td>no_watermark</td>\n",
       "    </tr>\n",
       "    <tr>\n",
       "      <th>399</th>\n",
       "      <td>/storage/data/watermark_record_sample/no_water...</td>\n",
       "      <td>watermark</td>\n",
       "      <td>no_watermark</td>\n",
       "    </tr>\n",
       "  </tbody>\n",
       "</table>\n",
       "<p>400 rows × 3 columns</p>\n",
       "</div>"
      ],
      "text/plain": [
       "                                                  path   predictions  \\\n",
       "0    /storage/data/watermark_record_sample/watermar...  no_watermark   \n",
       "1    /storage/data/watermark_record_sample/watermar...  no_watermark   \n",
       "2    /storage/data/watermark_record_sample/watermar...  no_watermark   \n",
       "3    /storage/data/watermark_record_sample/watermar...  no_watermark   \n",
       "4    /storage/data/watermark_record_sample/watermar...  no_watermark   \n",
       "..                                                 ...           ...   \n",
       "395  /storage/data/watermark_record_sample/no_water...     watermark   \n",
       "396  /storage/data/watermark_record_sample/no_water...     watermark   \n",
       "397  /storage/data/watermark_record_sample/no_water...     watermark   \n",
       "398  /storage/data/watermark_record_sample/no_water...     watermark   \n",
       "399  /storage/data/watermark_record_sample/no_water...     watermark   \n",
       "\n",
       "           labels  \n",
       "0       watermark  \n",
       "1       watermark  \n",
       "2       watermark  \n",
       "3       watermark  \n",
       "4       watermark  \n",
       "..            ...  \n",
       "395  no_watermark  \n",
       "396  no_watermark  \n",
       "397  no_watermark  \n",
       "398  no_watermark  \n",
       "399  no_watermark  \n",
       "\n",
       "[400 rows x 3 columns]"
      ]
     },
     "execution_count": 3,
     "metadata": {},
     "output_type": "execute_result"
    }
   ],
   "source": [
    "df"
   ]
  },
  {
   "cell_type": "code",
   "execution_count": null,
   "id": "c57ed664-7d7e-4b87-84c0-7053e8d243c5",
   "metadata": {},
   "outputs": [],
   "source": []
  },
  {
   "cell_type": "code",
   "execution_count": 39,
   "id": "257f70da-f990-4ac0-a2b0-6faa1ddb57e6",
   "metadata": {},
   "outputs": [
    {
     "data": {
      "text/plain": [
       "154"
      ]
     },
     "execution_count": 39,
     "metadata": {},
     "output_type": "execute_result"
    }
   ],
   "source": [
    "labeled_df = pd.read_csv('/storage/data/labeled_6999.csv')\n",
    "labeled_df['dataset_id'] = labeled_df['id'].apply(lambda x: x.split('/')[1])\n",
    "watermark_datasets = labeled_df.loc[labeled_df['category'] == 'watermark'].dataset_id.unique()\n",
    "len(watermark_datasets)"
   ]
  },
  {
   "cell_type": "code",
   "execution_count": 40,
   "id": "4e4f29ba-0082-4939-b0d7-01ee3e1689c3",
   "metadata": {},
   "outputs": [
    {
     "data": {
      "text/plain": [
       "(3303, 19)"
      ]
     },
     "execution_count": 40,
     "metadata": {},
     "output_type": "execute_result"
    }
   ],
   "source": [
    "df = pd.read_csv('/storage/data/unlabeled.csv')\n",
    "df['dataset_id'] = df['europeana_id'].apply(lambda x: x.split('/')[1])\n",
    "df = df.loc[df['dataset_id'].apply(lambda x: x not in watermark_datasets)]\n",
    "df.shape"
   ]
  },
  {
   "cell_type": "code",
   "execution_count": 41,
   "id": "06b8aaba-a489-4edf-beb2-bcb1fcac59a7",
   "metadata": {},
   "outputs": [],
   "source": [
    "df.to_csv('/storage/data/unlabeled.csv',index = False)"
   ]
  },
  {
   "cell_type": "code",
   "execution_count": 4,
   "id": "e532dbb6-7afd-4e29-aee3-ba98e0c996bb",
   "metadata": {},
   "outputs": [],
   "source": []
  },
  {
   "cell_type": "code",
   "execution_count": null,
   "id": "f24d3f26-3d4d-4ec3-b6be-6296db9eace7",
   "metadata": {},
   "outputs": [],
   "source": []
  },
  {
   "cell_type": "code",
   "execution_count": null,
   "id": "8d4ce8d6-d325-42b2-9eb3-70576bb48f16",
   "metadata": {},
   "outputs": [],
   "source": [
    "df = pd.read_csv('/storage/results/iter_6/split_4/predictions.csv')\n"
   ]
  }
 ],
 "metadata": {
  "kernelspec": {
   "display_name": "Python 3 (ipykernel)",
   "language": "python",
   "name": "python3"
  },
  "language_info": {
   "codemirror_mode": {
    "name": "ipython",
    "version": 3
   },
   "file_extension": ".py",
   "mimetype": "text/x-python",
   "name": "python",
   "nbconvert_exporter": "python",
   "pygments_lexer": "ipython3",
   "version": "3.8.10"
  }
 },
 "nbformat": 4,
 "nbformat_minor": 5
}

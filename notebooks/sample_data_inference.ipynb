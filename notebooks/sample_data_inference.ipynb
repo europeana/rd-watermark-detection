{
 "cells": [
  {
   "cell_type": "code",
   "execution_count": 1,
   "id": "36267a8b-c60e-422f-8362-e065b2d7b964",
   "metadata": {},
   "outputs": [],
   "source": [
    "import os\n",
    "import pandas as pd\n",
    "import numpy as np\n",
    "import requests\n",
    "from pathlib import Path\n",
    "\n",
    "import seaborn as sns\n",
    "import matplotlib.pyplot as plt\n",
    "\n",
    "from tqdm import tqdm\n",
    "\n",
    "import pyeuropeana.apis as apis\n",
    "import pyeuropeana.utils as utils\n",
    "\n",
    "os.environ['EUROPEANA_API_KEY'] = 'api2demo'\n"
   ]
  },
  {
   "cell_type": "code",
   "execution_count": 25,
   "id": "bc8be347-d776-4762-ac45-125092aad866",
   "metadata": {},
   "outputs": [
    {
     "name": "stdout",
     "output_type": "stream",
     "text": [
      "35345290\n"
     ]
    },
    {
     "data": {
      "text/plain": [
       "(1409, 2)"
      ]
     },
     "execution_count": 25,
     "metadata": {},
     "output_type": "execute_result"
    }
   ],
   "source": [
    "response = requests.get('https://api.europeana.eu/record/v2/search.json?wskey=api2demo&qf=TYPE:%22IMAGE%22&query=*&rows=0&profile=facets&facet=edm_datasetName&f.edm_datasetName.facet.limit=10000')\n",
    "response = response.json()\n",
    "dataset_df = pd.DataFrame(response['facets'][0]['fields'])\n",
    "#dataset_df = dataset_df.loc[dataset_df['count']>=100]\n",
    "print(dataset_df['count'].sum())\n",
    "dataset_df.shape"
   ]
  },
  {
   "cell_type": "code",
   "execution_count": 26,
   "id": "9366db63-88fb-419c-b1b7-3d22cc138ebe",
   "metadata": {},
   "outputs": [
    {
     "name": "stdout",
     "output_type": "stream",
     "text": [
      "(280, 6)\n",
      "(1164, 2)\n",
      "(400, 2)\n",
      "(400,)\n",
      "(400,)\n"
     ]
    }
   ],
   "source": [
    "# load watermark record\n",
    "record = pd.read_csv('/storage/data/watermark_record.csv')\n",
    "record_datasets = record['dataset_name'].values\n",
    "\n",
    "print(record.shape)\n",
    "\n",
    "\n",
    "#response = requests.get('https://api.europeana.eu/record/v2/search.json?wskey=api2demo&qf=TYPE:%22IMAGE%22&query=*&rows=0&profile=facets&facet=edm_datasetName&f.edm_datasetName.facet.limit=10000')\n",
    "#response = response.json()\n",
    "#dataset_df = pd.DataFrame(response['facets'][0]['fields'])\n",
    "#dataset_df = dataset_df.loc[dataset_df['count']>=100]\n",
    "dataset_df = dataset_df.loc[dataset_df['label'].apply(lambda x: x not in record_datasets)]\n",
    "print(dataset_df.shape)\n",
    "dataset_df = dataset_df.head(400)\n",
    "#dataset_df = dataset_df.tail(200)\n",
    "dataset_list = dataset_df['label'].values\n",
    "print(dataset_df.shape)\n",
    "\n",
    "dataset_list = dataset_list.astype(str)\n",
    "\n",
    "print(dataset_list.shape)\n",
    "dataset_list = np.unique(dataset_list)\n",
    "print(dataset_list.shape)\n",
    "\n"
   ]
  },
  {
   "cell_type": "code",
   "execution_count": 23,
   "id": "9d4c68ad-a331-4453-9430-8f5fdaae0a34",
   "metadata": {},
   "outputs": [
    {
     "data": {
      "text/plain": [
       "20080445"
      ]
     },
     "execution_count": 23,
     "metadata": {},
     "output_type": "execute_result"
    }
   ],
   "source": [
    "record['size_dataset'].sum()"
   ]
  },
  {
   "cell_type": "code",
   "execution_count": 13,
   "id": "4b296e48-829f-4117-9678-a177f24b4b90",
   "metadata": {},
   "outputs": [
    {
     "data": {
      "text/html": [
       "<div>\n",
       "<style scoped>\n",
       "    .dataframe tbody tr th:only-of-type {\n",
       "        vertical-align: middle;\n",
       "    }\n",
       "\n",
       "    .dataframe tbody tr th {\n",
       "        vertical-align: top;\n",
       "    }\n",
       "\n",
       "    .dataframe thead th {\n",
       "        text-align: right;\n",
       "    }\n",
       "</style>\n",
       "<table border=\"1\" class=\"dataframe\">\n",
       "  <thead>\n",
       "    <tr style=\"text-align: right;\">\n",
       "      <th></th>\n",
       "      <th>label</th>\n",
       "      <th>count</th>\n",
       "    </tr>\n",
       "  </thead>\n",
       "  <tbody>\n",
       "    <tr>\n",
       "      <th>1</th>\n",
       "      <td>11614_Royal_Botanic_Gardens_Kew</td>\n",
       "      <td>595140</td>\n",
       "    </tr>\n",
       "    <tr>\n",
       "      <th>2</th>\n",
       "      <td>2048087_Ag_EU_AthenaPlus_CollectionsTrust</td>\n",
       "      <td>584550</td>\n",
       "    </tr>\n",
       "    <tr>\n",
       "      <th>6</th>\n",
       "      <td>03915_Ag_FR_MCC_MEMOIRE_SAP_IMAGE</td>\n",
       "      <td>510877</td>\n",
       "    </tr>\n",
       "    <tr>\n",
       "      <th>9</th>\n",
       "      <td>11652_Ag_EU_OpenUp!_BATCH5:NBCNL_DWCA</td>\n",
       "      <td>499400</td>\n",
       "    </tr>\n",
       "    <tr>\n",
       "      <th>10</th>\n",
       "      <td>11651_Ag_EU_OpenUp!_BATCH6:NBCNL_DWCA</td>\n",
       "      <td>499300</td>\n",
       "    </tr>\n",
       "    <tr>\n",
       "      <th>...</th>\n",
       "      <td>...</td>\n",
       "      <td>...</td>\n",
       "    </tr>\n",
       "    <tr>\n",
       "      <th>573</th>\n",
       "      <td>925_Ministerul_Culturii_UMP</td>\n",
       "      <td>2771</td>\n",
       "    </tr>\n",
       "    <tr>\n",
       "      <th>574</th>\n",
       "      <td>3_EKT_Kazantzakis_Museum_Foundation</td>\n",
       "      <td>2747</td>\n",
       "    </tr>\n",
       "    <tr>\n",
       "      <th>575</th>\n",
       "      <td>132_SOCH_enkopings</td>\n",
       "      <td>2746</td>\n",
       "    </tr>\n",
       "    <tr>\n",
       "      <th>576</th>\n",
       "      <td>2064901_GR_NOESIS</td>\n",
       "      <td>2729</td>\n",
       "    </tr>\n",
       "    <tr>\n",
       "      <th>577</th>\n",
       "      <td>2058626_Ag_EU_LoCloud_NRA-e</td>\n",
       "      <td>2726</td>\n",
       "    </tr>\n",
       "  </tbody>\n",
       "</table>\n",
       "<p>400 rows × 2 columns</p>\n",
       "</div>"
      ],
      "text/plain": [
       "                                         label   count\n",
       "1              11614_Royal_Botanic_Gardens_Kew  595140\n",
       "2    2048087_Ag_EU_AthenaPlus_CollectionsTrust  584550\n",
       "6            03915_Ag_FR_MCC_MEMOIRE_SAP_IMAGE  510877\n",
       "9        11652_Ag_EU_OpenUp!_BATCH5:NBCNL_DWCA  499400\n",
       "10       11651_Ag_EU_OpenUp!_BATCH6:NBCNL_DWCA  499300\n",
       "..                                         ...     ...\n",
       "573                925_Ministerul_Culturii_UMP    2771\n",
       "574        3_EKT_Kazantzakis_Museum_Foundation    2747\n",
       "575                         132_SOCH_enkopings    2746\n",
       "576                          2064901_GR_NOESIS    2729\n",
       "577                2058626_Ag_EU_LoCloud_NRA-e    2726\n",
       "\n",
       "[400 rows x 2 columns]"
      ]
     },
     "execution_count": 13,
     "metadata": {},
     "output_type": "execute_result"
    }
   ],
   "source": [
    "dataset_df"
   ]
  },
  {
   "cell_type": "code",
   "execution_count": 22,
   "id": "b24a605b-822b-42d9-a8d3-f3ee813500f1",
   "metadata": {},
   "outputs": [
    {
     "data": {
      "text/plain": [
       "20256026"
      ]
     },
     "execution_count": 22,
     "metadata": {},
     "output_type": "execute_result"
    }
   ],
   "source": [
    "dataset_df['count'].sum()"
   ]
  },
  {
   "cell_type": "code",
   "execution_count": 27,
   "id": "3caf4782-5395-4602-8599-b138b09c4b00",
   "metadata": {},
   "outputs": [
    {
     "name": "stderr",
     "output_type": "stream",
     "text": [
      "100%|█████████████████████████████████████████████████████████████████████████████████████████████████████████| 400/400 [34:42<00:00,  5.21s/it]\n"
     ]
    },
    {
     "name": "stdout",
     "output_type": "stream",
     "text": [
      "(400000, 16)\n"
     ]
    }
   ],
   "source": [
    "n_objects = 1000\n",
    "\n",
    "df = pd.DataFrame()\n",
    "for dataset in tqdm(dataset_list[:]):\n",
    "    dataset_id = dataset.split('_')[0]\n",
    "    response = apis.search(\n",
    "        query = f'edm_datasetName:{dataset_id}_*',\n",
    "        rows = n_objects,\n",
    "        qf = 'TYPE:IMAGE',\n",
    "        sort = 'random,europeana_id',\n",
    "        )\n",
    "    response = utils.search2df(response)\n",
    "\n",
    "    df = pd.concat([df,response])\n",
    "\n",
    "\n",
    "df.to_csv('/storage/data/sample_inference.csv',index = False)\n",
    "print(df.shape)"
   ]
  },
  {
   "cell_type": "code",
   "execution_count": 2,
   "id": "ef64cc79-df82-4478-a6ae-65e22c57ca46",
   "metadata": {},
   "outputs": [
    {
     "name": "stdout",
     "output_type": "stream",
     "text": [
      "                                               label    count\n",
      "0                          2058621_Ag_EU_LoCloud_NRA  2910176\n",
      "1                    9200365_Ag_EU_TEL_a0142_Gallica  1191745\n",
      "2     9200359_Ag_EU_TEL_a0601_Newspapers_Netherlands   747773\n",
      "3                                   9200479_NLPoland   644682\n",
      "4             9200384_Ag_EU_TEL_a0613_Newspapers_ONB   629498\n",
      "...                                              ...      ...\n",
      "2149                       856_ekultura_IlijaGultesa        1\n",
      "2150                              88_ASINOU_1_Cyprus        1\n",
      "2151                            895_APE_Landsarkivet        1\n",
      "2152                            896_APE__Riksarkivet        1\n",
      "2153           9200334_Ag_EU_TEL_a1223_EC1914_Slovak        1\n",
      "\n",
      "[2154 rows x 2 columns]\n",
      "(1941, 2)\n",
      "62147757\n"
     ]
    }
   ],
   "source": [
    "\n",
    "\n",
    "\n",
    "#https://api.europeana.eu/record/v2/search.json?wskey=api2demo&query=*&rows=0&profile=facets&facet=edm_datasetName&f.edm_datasetName.facet.limit=10000\n",
    "\n",
    "result = apis.search(\n",
    "    query = '*',\n",
    "    rows=0,\n",
    "    profile = 'facets',\n",
    "    facet = 'edm_datasetName&f.edm_datasetName.facet.limit=10000',\n",
    "    )\n",
    "\n",
    "df = pd.DataFrame(result['facets'][0]['fields'])\n",
    "\n",
    "print(df)\n",
    "\n",
    "dataset_df = df.loc[df['count']>=20]\n",
    "#dataset_df = df.iloc[1000:1100]\n",
    "\n",
    "print(dataset_df.shape)\n",
    "print(dataset_df['count'].sum())"
   ]
  },
  {
   "cell_type": "code",
   "execution_count": 5,
   "id": "b8dae517-803f-4843-b762-c09bd84a003e",
   "metadata": {},
   "outputs": [
    {
     "data": {
      "text/html": [
       "<div>\n",
       "<style scoped>\n",
       "    .dataframe tbody tr th:only-of-type {\n",
       "        vertical-align: middle;\n",
       "    }\n",
       "\n",
       "    .dataframe tbody tr th {\n",
       "        vertical-align: top;\n",
       "    }\n",
       "\n",
       "    .dataframe thead th {\n",
       "        text-align: right;\n",
       "    }\n",
       "</style>\n",
       "<table border=\"1\" class=\"dataframe\">\n",
       "  <thead>\n",
       "    <tr style=\"text-align: right;\">\n",
       "      <th></th>\n",
       "      <th>label</th>\n",
       "      <th>count</th>\n",
       "    </tr>\n",
       "  </thead>\n",
       "  <tbody>\n",
       "    <tr>\n",
       "      <th>0</th>\n",
       "      <td>401_Muuseumid</td>\n",
       "      <td>613372</td>\n",
       "    </tr>\n",
       "    <tr>\n",
       "      <th>1</th>\n",
       "      <td>11614_Royal_Botanic_Gardens_Kew</td>\n",
       "      <td>595140</td>\n",
       "    </tr>\n",
       "    <tr>\n",
       "      <th>2</th>\n",
       "      <td>2048087_Ag_EU_AthenaPlus_CollectionsTrust</td>\n",
       "      <td>584550</td>\n",
       "    </tr>\n",
       "    <tr>\n",
       "      <th>3</th>\n",
       "      <td>2058632_Ag_EU_LoCloud_RCE</td>\n",
       "      <td>526228</td>\n",
       "    </tr>\n",
       "    <tr>\n",
       "      <th>4</th>\n",
       "      <td>2048212_EuropeanaFashion_1020</td>\n",
       "      <td>524717</td>\n",
       "    </tr>\n",
       "    <tr>\n",
       "      <th>...</th>\n",
       "      <td>...</td>\n",
       "      <td>...</td>\n",
       "    </tr>\n",
       "    <tr>\n",
       "      <th>1106</th>\n",
       "      <td>1001_EKT_YSMA</td>\n",
       "      <td>102</td>\n",
       "    </tr>\n",
       "    <tr>\n",
       "      <th>1107</th>\n",
       "      <td>459_FBC_Jagiellonska_Biblioteka_Cyfrowa_Part12</td>\n",
       "      <td>101</td>\n",
       "    </tr>\n",
       "    <tr>\n",
       "      <th>1108</th>\n",
       "      <td>2059101_M_ES_Prado</td>\n",
       "      <td>100</td>\n",
       "    </tr>\n",
       "    <tr>\n",
       "      <th>1109</th>\n",
       "      <td>842_DDB_Haupt_und_Landgestut</td>\n",
       "      <td>100</td>\n",
       "    </tr>\n",
       "    <tr>\n",
       "      <th>1110</th>\n",
       "      <td>9200416_Ag_EU_TEL_a1168k_eCloud_Croatia</td>\n",
       "      <td>100</td>\n",
       "    </tr>\n",
       "  </tbody>\n",
       "</table>\n",
       "<p>1111 rows × 2 columns</p>\n",
       "</div>"
      ],
      "text/plain": [
       "                                               label   count\n",
       "0                                      401_Muuseumid  613372\n",
       "1                    11614_Royal_Botanic_Gardens_Kew  595140\n",
       "2          2048087_Ag_EU_AthenaPlus_CollectionsTrust  584550\n",
       "3                          2058632_Ag_EU_LoCloud_RCE  526228\n",
       "4                      2048212_EuropeanaFashion_1020  524717\n",
       "...                                              ...     ...\n",
       "1106                                   1001_EKT_YSMA     102\n",
       "1107  459_FBC_Jagiellonska_Biblioteka_Cyfrowa_Part12     101\n",
       "1108                              2059101_M_ES_Prado     100\n",
       "1109                    842_DDB_Haupt_und_Landgestut     100\n",
       "1110         9200416_Ag_EU_TEL_a1168k_eCloud_Croatia     100\n",
       "\n",
       "[1111 rows x 2 columns]"
      ]
     },
     "execution_count": 5,
     "metadata": {},
     "output_type": "execute_result"
    }
   ],
   "source": [
    "\n",
    "# target datasets Ele 06 - 03\n",
    "\n",
    "# https://api.europeana.eu/record/v2/search.json?wskey=api2demo&qf=TYPE:\"IMAGE\"&qf=COUNTRY:\"Poland\"&qf=COUNTRY:\"Cyprus\"&qf=COUNTRY:\"Slovakia\"&qf=COUNTRY:\"Croatia\"&qf=COUNTRY:\"Bulgaria\"&qf=COUNTRY:\"Malta\"&qf=COUNTRY:\"Spain\"&qf=COUNTRY:\"Estonia\"&query=contentTier:(3 OR 4)&rows=0&profile=facets&facet=edm_datasetName&f.edm_datasetName.facet.limit=10000\n",
    "\n",
    "\n",
    "\n"
   ]
  },
  {
   "cell_type": "code",
   "execution_count": 33,
   "id": "e5a2efdf-459c-4af9-918f-d29f189e335f",
   "metadata": {},
   "outputs": [
    {
     "data": {
      "text/plain": [
       "3207.4055944055945"
      ]
     },
     "execution_count": 33,
     "metadata": {},
     "output_type": "execute_result"
    }
   ],
   "source": [
    "dataset_df['count'].mean()"
   ]
  },
  {
   "cell_type": "code",
   "execution_count": 40,
   "id": "d885dea1-7f81-4e0e-b704-d648d595f95a",
   "metadata": {},
   "outputs": [
    {
     "name": "stderr",
     "output_type": "stream",
     "text": [
      "100%|██████████████████████████████████████████████████████████████████████████████████████████████████████████| 115/115 [07:12<00:00,  3.76s/it]\n"
     ]
    },
    {
     "data": {
      "text/plain": [
       "(79548, 17)"
      ]
     },
     "execution_count": 40,
     "metadata": {},
     "output_type": "execute_result"
    }
   ],
   "source": [
    "dataframe = pd.DataFrame()\n",
    "for dataset_name in tqdm(dataset_df['label'].values[:]):\n",
    "  result = apis.search(\n",
    "      query = f'edm_datasetName:\"{dataset_name}\"',\n",
    "      qf = 'TYPE:IMAGE', \n",
    "      rows = 1000\n",
    "      )\n",
    "\n",
    "  aggregator_list = [item['provider'][0] for item in result['items']]\n",
    "\n",
    "  #print(aggregator_list)\n",
    "\n",
    "  result = utils.search2df(result)\n",
    "\n",
    "  #print(result.shape[0])\n",
    "    \n",
    "  if result is not None:\n",
    "      result['dataset_name'] = dataset_name\n",
    "      result['aggregator'] = aggregator_list\n",
    "      \n",
    "      dataframe = pd.concat([dataframe,result])\n",
    "\n",
    "dataframe.to_csv('/storage/data/sample.csv',index = False)\n",
    "dataframe.shape"
   ]
  },
  {
   "cell_type": "code",
   "execution_count": null,
   "id": "e5f91d06-b580-411d-a8b6-a0446805a9f0",
   "metadata": {},
   "outputs": [],
   "source": []
  },
  {
   "cell_type": "code",
   "execution_count": 119,
   "id": "c6318498-807a-4817-b86e-6b31cbc10461",
   "metadata": {},
   "outputs": [
    {
     "data": {
      "text/plain": [
       "(30270, 16)"
      ]
     },
     "execution_count": 119,
     "metadata": {},
     "output_type": "execute_result"
    }
   ],
   "source": []
  },
  {
   "cell_type": "code",
   "execution_count": null,
   "id": "304df813-9deb-4a80-9642-16cf2d7acab7",
   "metadata": {},
   "outputs": [],
   "source": []
  },
  {
   "cell_type": "code",
   "execution_count": 2,
   "id": "971254b3-b065-4bbf-bc6c-9e65153a603c",
   "metadata": {},
   "outputs": [
    {
     "name": "stdout",
     "output_type": "stream",
     "text": [
      "Number of inferences: 351317\n",
      "Number of datasets: 382\n"
     ]
    },
    {
     "data": {
      "image/png": "[encoded data removed]",
      "text/plain": [
       "<Figure size 640x480 with 1 Axes>"
      ]
     },
     "metadata": {},
     "output_type": "display_data"
    }
   ],
   "source": [
    "# Process inference\n",
    "\n",
    "def fpath2id(x):\n",
    "    return Path(x).with_suffix('').name.replace('[ph]','/')\n",
    "\n",
    "meta_df = pd.read_csv('/storage/data/sample_inference.csv')\n",
    "df = pd.read_csv('/storage/results/results_inference.csv')\n",
    "df['europeana_id'] = df['path'].apply(fpath2id)\n",
    "df = df.drop(['path'], axis=1)\n",
    "\n",
    "\n",
    "df = df.merge(meta_df)\n",
    "df = df.drop_duplicates(subset=['europeana_id'])\n",
    "\n",
    "print(f'Number of inferences: {df.shape[0]}')\n",
    "print(f'Number of datasets: {len(df.dataset_name.unique())}')\n",
    "\n",
    "n_watermarks_list = []\n",
    "threshold_range = np.arange(0.0,1.0,0.01)\n",
    "for threshold in threshold_range:\n",
    "    df['prediction'] = df['watermark'].apply(lambda x: 'watermark' if x > threshold else 'no_watermark')\n",
    "    watermark_df = df.loc[df['prediction'] == 'watermark']\n",
    "    n_watermarks_list.append(watermark_df.shape[0])\n",
    "\n",
    "img, ax = plt.subplots()\n",
    "ax.plot(threshold_range,n_watermarks_list )\n",
    "ax.set_xlabel('threshold')\n",
    "ax.set_ylabel('number of watermarks')\n",
    "plt.show()"
   ]
  },
  {
   "cell_type": "code",
   "execution_count": 58,
   "id": "784464f9-5207-4c04-be76-3db0adf20937",
   "metadata": {},
   "outputs": [
    {
     "data": {
      "text/plain": [
       "count    9.280000e+04\n",
       "mean     2.903916e-01\n",
       "std      4.178712e-01\n",
       "min      1.368071e-12\n",
       "25%      1.886384e-04\n",
       "50%      7.995777e-03\n",
       "75%      7.619698e-01\n",
       "max      1.000000e+00\n",
       "Name: watermark, dtype: float64"
      ]
     },
     "execution_count": 58,
     "metadata": {},
     "output_type": "execute_result"
    }
   ],
   "source": [
    "df.watermark.describe()"
   ]
  },
  {
   "cell_type": "code",
   "execution_count": 3,
   "id": "7730351e-fe4c-48d7-bbd9-90835740e0f7",
   "metadata": {},
   "outputs": [
    {
     "name": "stdout",
     "output_type": "stream",
     "text": [
      "Adding aggregator...\n",
      "382\n"
     ]
    },
    {
     "name": "stderr",
     "output_type": "stream",
     "text": [
      "100%|█████████████████████████████████████████████████████████████████████████████████████████████████████████| 382/382 [05:40<00:00,  1.12it/s]"
     ]
    },
    {
     "name": "stdout",
     "output_type": "stream",
     "text": [
      "Finished adding aggregator\n"
     ]
    },
    {
     "name": "stderr",
     "output_type": "stream",
     "text": [
      "\n"
     ]
    }
   ],
   "source": [
    "# add aggregator\n",
    "\n",
    "print('Adding aggregator...')\n",
    "dataset_aggregator_dict = {}\n",
    "unique_datasets = list(df.dataset_name.unique())\n",
    "print(len(unique_datasets))\n",
    "for dataset in tqdm(unique_datasets[:]):\n",
    "    dataset_id = dataset.split('_')[0]\n",
    "    response = apis.search(\n",
    "        query = f'edm_datasetName:{dataset_id}_*',\n",
    "        rows = 1,\n",
    "        qf = 'TYPE:IMAGE',\n",
    "        sort = 'random,europeana_id',\n",
    "        )\n",
    "    \n",
    "    aggregator = response['items'][0]['provider'][0]\n",
    "    dataset_aggregator_dict.update({dataset:aggregator})\n",
    "\n",
    "df['aggregator'] = df['dataset_name'].apply(lambda x: dataset_aggregator_dict[x])\n",
    "print('Finished adding aggregator')"
   ]
  },
  {
   "cell_type": "code",
   "execution_count": 4,
   "id": "5d96fd41-5263-4478-b250-c45678886e3b",
   "metadata": {},
   "outputs": [
    {
     "name": "stdout",
     "output_type": "stream",
     "text": [
      "                                  dataset_name    prediction  \\\n",
      "0     00737_A_DE_Landesarchiv_ese_5_0000084159  no_watermark   \n",
      "1     00737_A_DE_Landesarchiv_ese_5_0000084159     watermark   \n",
      "2     00738_A_DE_Landesarchiv_ese_5_0000478720  no_watermark   \n",
      "3     00738_A_DE_Landesarchiv_ese_5_0000478720     watermark   \n",
      "4     00739_A_DE_Landesarchiv_ese_5_0000478725  no_watermark   \n",
      "...                                        ...           ...   \n",
      "1644                967__OO_Landes_Kultur_GmbH     watermark   \n",
      "1645                               983_NLF_CMF  no_watermark   \n",
      "1646                               983_NLF_CMF     watermark   \n",
      "1647                               990_DDB_KUG  no_watermark   \n",
      "1648                               990_DDB_KUG     watermark   \n",
      "\n",
      "                                     provider  \\\n",
      "0         State Archives of Baden-Württemberg   \n",
      "1         State Archives of Baden-Württemberg   \n",
      "2         State Archives of Baden-Württemberg   \n",
      "3         State Archives of Baden-Württemberg   \n",
      "4         State Archives of Baden-Württemberg   \n",
      "...                                       ...   \n",
      "1644                    OÖ Landes-Kultur GmbH   \n",
      "1645                  Craft Museum of Finland   \n",
      "1646                  Craft Museum of Finland   \n",
      "1647  Kunstsammlung der Universität Göttingen   \n",
      "1648  Kunstsammlung der Universität Göttingen   \n",
      "\n",
      "                               aggregator  n_images_processed  \n",
      "0     State Archives of Baden-Württemberg                 647  \n",
      "1     State Archives of Baden-Württemberg                 272  \n",
      "2     State Archives of Baden-Württemberg                 956  \n",
      "3     State Archives of Baden-Württemberg                  30  \n",
      "4     State Archives of Baden-Württemberg                 938  \n",
      "...                                   ...                 ...  \n",
      "1644              Europeana Local Austria                 846  \n",
      "1645          National Library of Finland                 769  \n",
      "1646          National Library of Finland                 131  \n",
      "1647               German Digital Library                 694  \n",
      "1648               German Digital Library                 247  \n",
      "\n",
      "[1649 rows x 5 columns]\n",
      "(382, 6)\n"
     ]
    }
   ],
   "source": [
    "threshold = 0.5\n",
    "\n",
    "\n",
    "df['prediction'] = df['watermark'].apply(lambda x: 'watermark' if x > threshold else 'no_watermark')\n",
    "\n",
    "count_df = df.groupby(['dataset_name','prediction','provider','aggregator']).size().reset_index(name='counts')\n",
    "count_df = count_df.rename(columns = {'counts':'n_images_processed'})\n",
    "print(count_df)\n",
    "\n",
    "response = requests.get('https://api.europeana.eu/record/v2/search.json?wskey=api2demo&query=*&rows=0&profile=facets&facet=edm_datasetName&f.edm_datasetName.facet.limit=10000')\n",
    "response = response.json()\n",
    "dataset_count_df = pd.DataFrame(response['facets'][0]['fields'])\n",
    "\n",
    "per_dict = []\n",
    "for dataset_name in count_df['dataset_name'].unique():\n",
    "    _df = count_df.loc[count_df['dataset_name'] == dataset_name]\n",
    "\n",
    "    provider = _df['provider'].values[0]\n",
    "    aggregator = _df['aggregator'].values[0]\n",
    "\n",
    "    n_no_watermark = _df['n_images_processed'].loc[_df['prediction'] == 'no_watermark']\n",
    "    if not n_no_watermark.empty:\n",
    "        n_no_watermark = n_no_watermark.sum()\n",
    "    else:\n",
    "        n_no_watermark = 0\n",
    "        \n",
    "    n_watermark = _df['n_images_processed'].loc[_df['prediction'] == 'watermark']\n",
    "    if not n_watermark.empty:\n",
    "        n_watermark = n_watermark.sum()\n",
    "    else:\n",
    "        n_watermark = 0\n",
    "\n",
    "    n_images = n_watermark + n_no_watermark\n",
    "    per_watermarks = round(100.0*n_watermark/n_images,2)\n",
    "\n",
    "    per_dict.append({\n",
    "        'dataset_name':dataset_name, \n",
    "        'provider':provider,\n",
    "        'aggregator':aggregator,\n",
    "        'percentage_watermarks':per_watermarks,\n",
    "        'n_images_processed':n_images,\n",
    "        'n_watermarks_detected':n_watermark\n",
    "    })\n",
    "\n",
    "per_df = pd.DataFrame(per_dict)   \n",
    "per_df = per_df.sort_values(by='percentage_watermarks', ascending=False)  \n",
    "print(per_df.shape)\n",
    "\n",
    "def get_dataset_url(x):\n",
    "    url = f\"https://www.europeana.eu/en/search?query=edm_datasetName%3A{x.split('_')[0]}%2A&page=1&view=grid\"\n",
    "    return url\n",
    "\n",
    "def get_number_items_dataset(x):\n",
    "    return dataset_count_df['count'].loc[dataset_count_df['label'] == x].values[0]\n",
    "    \n",
    "\n",
    "per_df['url'] = per_df['dataset_name'].apply(get_dataset_url)\n",
    "per_df['count_dataset'] = per_df['dataset_name'].apply(get_number_items_dataset)\n",
    "\n",
    "columns = [\n",
    "    'dataset_name',\n",
    "    'provider',\n",
    "    'aggregator',\n",
    "    'url',\n",
    "    'percentage_watermarks',\n",
    "    'count_dataset',\n",
    "    'n_images_processed',\n",
    "    'n_watermarks_detected',\n",
    "]\n",
    "\n",
    "per_df.to_csv('/storage/results/inference_report.csv',index = False)\n",
    "\n",
    "\n",
    "# Plot\n",
    "#plt.figure(figsize=(10, 6))\n",
    "#plt.bar(per_df['dataset_name'], per_df['percentage_watermarks'], color='skyblue')\n",
    "#plt.xlabel('Dataset Name')\n",
    "#plt.ylabel('Percentage')\n",
    "#plt.title('Distribution of Dataset Names')\n",
    "#plt.xticks(rotation=45)  # Rotate labels to avoid overlap\n",
    "#plt.show()"
   ]
  },
  {
   "cell_type": "code",
   "execution_count": 5,
   "id": "3433e225-f5bc-4349-b9b3-a8be3a8fe8b7",
   "metadata": {},
   "outputs": [
    {
     "name": "stdout",
     "output_type": "stream",
     "text": [
      "(382, 8)\n",
      "Index(['confidence_score', 'europeana_id', 'uri', 'type', 'image_url',\n",
      "       'country', 'description', 'title', 'creator', 'language', 'rights',\n",
      "       'provider', 'dataset_name', 'concept', 'concept_lang',\n",
      "       'description_lang', 'title_lang', 'aggregator'],\n",
      "      dtype='object')\n",
      "(7636, 18)\n"
     ]
    }
   ],
   "source": [
    "\n",
    "threshold_percentage = 0.0\n",
    "\n",
    "reduced_per_df = per_df.loc[per_df['percentage_watermarks'] >= threshold_percentage]\n",
    "print(reduced_per_df.shape)\n",
    "\n",
    "output_df = pd.DataFrame()\n",
    "filtered_names = []\n",
    "for dataset_name in reduced_per_df['dataset_name'].unique():\n",
    "    _df = df.loc[df['dataset_name'] == dataset_name]\n",
    "\n",
    "    _df = _df.drop(columns = ['prediction'])\n",
    "    _df = _df.rename(columns = {'watermark':'confidence_score'})\n",
    "\n",
    "    _df = _df.sort_values(by='confidence_score', ascending=False)  \n",
    "    _df = pd.concat([_df.head(10),_df.tail(10)]) \n",
    "\n",
    "    output_df = pd.concat([output_df,_df])\n",
    "\n",
    "print(output_df.columns)\n",
    "print(output_df.shape)\n",
    "\n",
    "columns = ['europeana_id','confidence_score','dataset_name','provider','aggregator','uri','image_url','country','rights']\n",
    "output_df = output_df[columns]\n",
    "\n",
    "\n",
    "\n",
    "output_df.to_csv('/storage/results/inference_gallery.csv',index = False)\n",
    "\n",
    "\n",
    "\n"
   ]
  },
  {
   "cell_type": "code",
   "execution_count": 11,
   "id": "b7858216-0b44-443f-813e-953ca4851d66",
   "metadata": {},
   "outputs": [
    {
     "data": {
      "text/html": [
       "<div>\n",
       "<style scoped>\n",
       "    .dataframe tbody tr th:only-of-type {\n",
       "        vertical-align: middle;\n",
       "    }\n",
       "\n",
       "    .dataframe tbody tr th {\n",
       "        vertical-align: top;\n",
       "    }\n",
       "\n",
       "    .dataframe thead th {\n",
       "        text-align: right;\n",
       "    }\n",
       "</style>\n",
       "<table border=\"1\" class=\"dataframe\">\n",
       "  <thead>\n",
       "    <tr style=\"text-align: right;\">\n",
       "      <th></th>\n",
       "      <th>europeana_id</th>\n",
       "      <th>confidence_score</th>\n",
       "      <th>dataset_name</th>\n",
       "      <th>provider</th>\n",
       "      <th>uri</th>\n",
       "      <th>image_url</th>\n",
       "      <th>country</th>\n",
       "      <th>rights</th>\n",
       "    </tr>\n",
       "  </thead>\n",
       "  <tbody>\n",
       "    <tr>\n",
       "      <th>3</th>\n",
       "      <td>/2022713/oai_rebae_mcu_es_183695</td>\n",
       "      <td>1.000000</td>\n",
       "      <td>2022713_Ag_ES_Hispana_ccbae</td>\n",
       "      <td>Collective Catalog of the Library Network of t...</td>\n",
       "      <td>http://data.europeana.eu/item/2022713/oai_reba...</td>\n",
       "      <td>http://www.mcu.es/ccbae/i18n/catalogo_imagenes...</td>\n",
       "      <td>Spain</td>\n",
       "      <td>http://creativecommons.org/publicdomain/mark/1.0/</td>\n",
       "    </tr>\n",
       "    <tr>\n",
       "      <th>297</th>\n",
       "      <td>/2022713/oai_rebae_mcu_es_183868</td>\n",
       "      <td>1.000000</td>\n",
       "      <td>2022713_Ag_ES_Hispana_ccbae</td>\n",
       "      <td>Collective Catalog of the Library Network of t...</td>\n",
       "      <td>http://data.europeana.eu/item/2022713/oai_reba...</td>\n",
       "      <td>http://www.mcu.es/ccbae/i18n/catalogo_imagenes...</td>\n",
       "      <td>Spain</td>\n",
       "      <td>http://creativecommons.org/publicdomain/mark/1.0/</td>\n",
       "    </tr>\n",
       "    <tr>\n",
       "      <th>457</th>\n",
       "      <td>/2022713/oai_rebae_mcu_es_183770</td>\n",
       "      <td>1.000000</td>\n",
       "      <td>2022713_Ag_ES_Hispana_ccbae</td>\n",
       "      <td>Collective Catalog of the Library Network of t...</td>\n",
       "      <td>http://data.europeana.eu/item/2022713/oai_reba...</td>\n",
       "      <td>http://www.mcu.es/ccbae/i18n/catalogo_imagenes...</td>\n",
       "      <td>Spain</td>\n",
       "      <td>http://creativecommons.org/publicdomain/mark/1.0/</td>\n",
       "    </tr>\n",
       "    <tr>\n",
       "      <th>453</th>\n",
       "      <td>/2022713/oai_rebae_mcu_es_183936</td>\n",
       "      <td>1.000000</td>\n",
       "      <td>2022713_Ag_ES_Hispana_ccbae</td>\n",
       "      <td>Collective Catalog of the Library Network of t...</td>\n",
       "      <td>http://data.europeana.eu/item/2022713/oai_reba...</td>\n",
       "      <td>http://www.mcu.es/ccbae/i18n/catalogo_imagenes...</td>\n",
       "      <td>Spain</td>\n",
       "      <td>http://creativecommons.org/publicdomain/mark/1.0/</td>\n",
       "    </tr>\n",
       "    <tr>\n",
       "      <th>400</th>\n",
       "      <td>/2022713/oai_rebae_mcu_es_184071</td>\n",
       "      <td>1.000000</td>\n",
       "      <td>2022713_Ag_ES_Hispana_ccbae</td>\n",
       "      <td>Collective Catalog of the Library Network of t...</td>\n",
       "      <td>http://data.europeana.eu/item/2022713/oai_reba...</td>\n",
       "      <td>http://www.mcu.es/ccbae/i18n/catalogo_imagenes...</td>\n",
       "      <td>Spain</td>\n",
       "      <td>http://creativecommons.org/publicdomain/mark/1.0/</td>\n",
       "    </tr>\n",
       "    <tr>\n",
       "      <th>...</th>\n",
       "      <td>...</td>\n",
       "      <td>...</td>\n",
       "      <td>...</td>\n",
       "      <td>...</td>\n",
       "      <td>...</td>\n",
       "      <td>...</td>\n",
       "      <td>...</td>\n",
       "      <td>...</td>\n",
       "    </tr>\n",
       "    <tr>\n",
       "      <th>2393</th>\n",
       "      <td>/912/https___biblioteka_teatrnn_pl_dlibra_publ...</td>\n",
       "      <td>0.999996</td>\n",
       "      <td>912__GrodzkaGate_NNTheatre_JARK</td>\n",
       "      <td>Grodzka Gate – NN Theatre</td>\n",
       "      <td>http://data.europeana.eu/item/912/https___bibl...</td>\n",
       "      <td>https://biblioteka.teatrnn.pl/Content/88598</td>\n",
       "      <td>Poland</td>\n",
       "      <td>http://rightsstatements.org/vocab/InC/1.0/</td>\n",
       "    </tr>\n",
       "    <tr>\n",
       "      <th>3571</th>\n",
       "      <td>/912/https___biblioteka_teatrnn_pl_dlibra_publ...</td>\n",
       "      <td>0.999988</td>\n",
       "      <td>912__GrodzkaGate_NNTheatre_JARK</td>\n",
       "      <td>Grodzka Gate – NN Theatre</td>\n",
       "      <td>http://data.europeana.eu/item/912/https___bibl...</td>\n",
       "      <td>https://biblioteka.teatrnn.pl/Content/88588</td>\n",
       "      <td>Poland</td>\n",
       "      <td>http://rightsstatements.org/vocab/InC/1.0/</td>\n",
       "    </tr>\n",
       "    <tr>\n",
       "      <th>4061</th>\n",
       "      <td>/912/https___biblioteka_teatrnn_pl_dlibra_publ...</td>\n",
       "      <td>0.999982</td>\n",
       "      <td>912__GrodzkaGate_NNTheatre_JARK</td>\n",
       "      <td>Grodzka Gate – NN Theatre</td>\n",
       "      <td>http://data.europeana.eu/item/912/https___bibl...</td>\n",
       "      <td>https://biblioteka.teatrnn.pl/Content/99883</td>\n",
       "      <td>Poland</td>\n",
       "      <td>http://rightsstatements.org/vocab/InC/1.0/</td>\n",
       "    </tr>\n",
       "    <tr>\n",
       "      <th>5536</th>\n",
       "      <td>/912/https___biblioteka_teatrnn_pl_dlibra_publ...</td>\n",
       "      <td>0.999956</td>\n",
       "      <td>912__GrodzkaGate_NNTheatre_JARK</td>\n",
       "      <td>Grodzka Gate – NN Theatre</td>\n",
       "      <td>http://data.europeana.eu/item/912/https___bibl...</td>\n",
       "      <td>https://biblioteka.teatrnn.pl/Content/99672</td>\n",
       "      <td>Poland</td>\n",
       "      <td>http://rightsstatements.org/vocab/InC/1.0/</td>\n",
       "    </tr>\n",
       "    <tr>\n",
       "      <th>9154</th>\n",
       "      <td>/912/https___biblioteka_teatrnn_pl_dlibra_publ...</td>\n",
       "      <td>0.999801</td>\n",
       "      <td>912__GrodzkaGate_NNTheatre_JARK</td>\n",
       "      <td>Grodzka Gate – NN Theatre</td>\n",
       "      <td>http://data.europeana.eu/item/912/https___bibl...</td>\n",
       "      <td>https://biblioteka.teatrnn.pl/Content/99899</td>\n",
       "      <td>Poland</td>\n",
       "      <td>http://rightsstatements.org/vocab/InC/1.0/</td>\n",
       "    </tr>\n",
       "  </tbody>\n",
       "</table>\n",
       "<p>120 rows × 8 columns</p>\n",
       "</div>"
      ],
      "text/plain": [
       "                                           europeana_id  confidence_score  \\\n",
       "3                      /2022713/oai_rebae_mcu_es_183695          1.000000   \n",
       "297                    /2022713/oai_rebae_mcu_es_183868          1.000000   \n",
       "457                    /2022713/oai_rebae_mcu_es_183770          1.000000   \n",
       "453                    /2022713/oai_rebae_mcu_es_183936          1.000000   \n",
       "400                    /2022713/oai_rebae_mcu_es_184071          1.000000   \n",
       "...                                                 ...               ...   \n",
       "2393  /912/https___biblioteka_teatrnn_pl_dlibra_publ...          0.999996   \n",
       "3571  /912/https___biblioteka_teatrnn_pl_dlibra_publ...          0.999988   \n",
       "4061  /912/https___biblioteka_teatrnn_pl_dlibra_publ...          0.999982   \n",
       "5536  /912/https___biblioteka_teatrnn_pl_dlibra_publ...          0.999956   \n",
       "9154  /912/https___biblioteka_teatrnn_pl_dlibra_publ...          0.999801   \n",
       "\n",
       "                         dataset_name  \\\n",
       "3         2022713_Ag_ES_Hispana_ccbae   \n",
       "297       2022713_Ag_ES_Hispana_ccbae   \n",
       "457       2022713_Ag_ES_Hispana_ccbae   \n",
       "453       2022713_Ag_ES_Hispana_ccbae   \n",
       "400       2022713_Ag_ES_Hispana_ccbae   \n",
       "...                               ...   \n",
       "2393  912__GrodzkaGate_NNTheatre_JARK   \n",
       "3571  912__GrodzkaGate_NNTheatre_JARK   \n",
       "4061  912__GrodzkaGate_NNTheatre_JARK   \n",
       "5536  912__GrodzkaGate_NNTheatre_JARK   \n",
       "9154  912__GrodzkaGate_NNTheatre_JARK   \n",
       "\n",
       "                                               provider  \\\n",
       "3     Collective Catalog of the Library Network of t...   \n",
       "297   Collective Catalog of the Library Network of t...   \n",
       "457   Collective Catalog of the Library Network of t...   \n",
       "453   Collective Catalog of the Library Network of t...   \n",
       "400   Collective Catalog of the Library Network of t...   \n",
       "...                                                 ...   \n",
       "2393                          Grodzka Gate – NN Theatre   \n",
       "3571                          Grodzka Gate – NN Theatre   \n",
       "4061                          Grodzka Gate – NN Theatre   \n",
       "5536                          Grodzka Gate – NN Theatre   \n",
       "9154                          Grodzka Gate – NN Theatre   \n",
       "\n",
       "                                                    uri  \\\n",
       "3     http://data.europeana.eu/item/2022713/oai_reba...   \n",
       "297   http://data.europeana.eu/item/2022713/oai_reba...   \n",
       "457   http://data.europeana.eu/item/2022713/oai_reba...   \n",
       "453   http://data.europeana.eu/item/2022713/oai_reba...   \n",
       "400   http://data.europeana.eu/item/2022713/oai_reba...   \n",
       "...                                                 ...   \n",
       "2393  http://data.europeana.eu/item/912/https___bibl...   \n",
       "3571  http://data.europeana.eu/item/912/https___bibl...   \n",
       "4061  http://data.europeana.eu/item/912/https___bibl...   \n",
       "5536  http://data.europeana.eu/item/912/https___bibl...   \n",
       "9154  http://data.europeana.eu/item/912/https___bibl...   \n",
       "\n",
       "                                              image_url country  \\\n",
       "3     http://www.mcu.es/ccbae/i18n/catalogo_imagenes...   Spain   \n",
       "297   http://www.mcu.es/ccbae/i18n/catalogo_imagenes...   Spain   \n",
       "457   http://www.mcu.es/ccbae/i18n/catalogo_imagenes...   Spain   \n",
       "453   http://www.mcu.es/ccbae/i18n/catalogo_imagenes...   Spain   \n",
       "400   http://www.mcu.es/ccbae/i18n/catalogo_imagenes...   Spain   \n",
       "...                                                 ...     ...   \n",
       "2393        https://biblioteka.teatrnn.pl/Content/88598  Poland   \n",
       "3571        https://biblioteka.teatrnn.pl/Content/88588  Poland   \n",
       "4061        https://biblioteka.teatrnn.pl/Content/99883  Poland   \n",
       "5536        https://biblioteka.teatrnn.pl/Content/99672  Poland   \n",
       "9154        https://biblioteka.teatrnn.pl/Content/99899  Poland   \n",
       "\n",
       "                                                 rights  \n",
       "3     http://creativecommons.org/publicdomain/mark/1.0/  \n",
       "297   http://creativecommons.org/publicdomain/mark/1.0/  \n",
       "457   http://creativecommons.org/publicdomain/mark/1.0/  \n",
       "453   http://creativecommons.org/publicdomain/mark/1.0/  \n",
       "400   http://creativecommons.org/publicdomain/mark/1.0/  \n",
       "...                                                 ...  \n",
       "2393         http://rightsstatements.org/vocab/InC/1.0/  \n",
       "3571         http://rightsstatements.org/vocab/InC/1.0/  \n",
       "4061         http://rightsstatements.org/vocab/InC/1.0/  \n",
       "5536         http://rightsstatements.org/vocab/InC/1.0/  \n",
       "9154         http://rightsstatements.org/vocab/InC/1.0/  \n",
       "\n",
       "[120 rows x 8 columns]"
      ]
     },
     "execution_count": 11,
     "metadata": {},
     "output_type": "execute_result"
    }
   ],
   "source": [
    "output_df"
   ]
  },
  {
   "cell_type": "code",
   "execution_count": null,
   "id": "727c8fe0-807b-47c2-a9f4-b512acd9af07",
   "metadata": {},
   "outputs": [],
   "source": [
    "# remove duplicates watermark record"
   ]
  }
 ],
 "metadata": {
  "kernelspec": {
   "display_name": "Python 3 (ipykernel)",
   "language": "python",
   "name": "python3"
  },
  "language_info": {
   "codemirror_mode": {
    "name": "ipython",
    "version": 3
   },
   "file_extension": ".py",
   "mimetype": "text/x-python",
   "name": "python",
   "nbconvert_exporter": "python",
   "pygments_lexer": "ipython3",
   "version": "3.8.10"
  }
 },
 "nbformat": 4,
 "nbformat_minor": 5
}

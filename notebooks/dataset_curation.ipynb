{
 "cells": [
  {
   "cell_type": "code",
   "execution_count": 38,
   "id": "a32ae8ad-6097-4f3f-ba8e-2c50a5edf278",
   "metadata": {},
   "outputs": [],
   "source": [
    "import pandas as pd"
   ]
  },
  {
   "cell_type": "code",
   "execution_count": 39,
   "id": "257f70da-f990-4ac0-a2b0-6faa1ddb57e6",
   "metadata": {},
   "outputs": [
    {
     "data": {
      "text/plain": [
       "154"
      ]
     },
     "execution_count": 39,
     "metadata": {},
     "output_type": "execute_result"
    }
   ],
   "source": [
    "labeled_df = pd.read_csv('/storage/data/labeled_6999.csv')\n",
    "labeled_df['dataset_id'] = labeled_df['id'].apply(lambda x: x.split('/')[1])\n",
    "watermark_datasets = labeled_df.loc[labeled_df['category'] == 'watermark'].dataset_id.unique()\n",
    "len(watermark_datasets)"
   ]
  },
  {
   "cell_type": "code",
   "execution_count": 40,
   "id": "4e4f29ba-0082-4939-b0d7-01ee3e1689c3",
   "metadata": {},
   "outputs": [
    {
     "data": {
      "text/plain": [
       "(3303, 19)"
      ]
     },
     "execution_count": 40,
     "metadata": {},
     "output_type": "execute_result"
    }
   ],
   "source": [
    "df = pd.read_csv('/storage/data/unlabeled.csv')\n",
    "df['dataset_id'] = df['europeana_id'].apply(lambda x: x.split('/')[1])\n",
    "df = df.loc[df['dataset_id'].apply(lambda x: x not in watermark_datasets)]\n",
    "df.shape"
   ]
  },
  {
   "cell_type": "code",
   "execution_count": 41,
   "id": "06b8aaba-a489-4edf-beb2-bcb1fcac59a7",
   "metadata": {},
   "outputs": [],
   "source": [
    "df.to_csv('/storage/data/unlabeled.csv',index = False)"
   ]
  },
  {
   "cell_type": "code",
   "execution_count": 4,
   "id": "e532dbb6-7afd-4e29-aee3-ba98e0c996bb",
   "metadata": {},
   "outputs": [],
   "source": []
  },
  {
   "cell_type": "code",
   "execution_count": null,
   "id": "f24d3f26-3d4d-4ec3-b6be-6296db9eace7",
   "metadata": {},
   "outputs": [],
   "source": []
  },
  {
   "cell_type": "code",
   "execution_count": null,
   "id": "8d4ce8d6-d325-42b2-9eb3-70576bb48f16",
   "metadata": {},
   "outputs": [],
   "source": [
    "df = pd.read_csv('/storage/results/iter_6/split_4/predictions.csv')\n"
   ]
  }
 ],
 "metadata": {
  "kernelspec": {
   "display_name": "Python 3 (ipykernel)",
   "language": "python",
   "name": "python3"
  },
  "language_info": {
   "codemirror_mode": {
    "name": "ipython",
    "version": 3
   },
   "file_extension": ".py",
   "mimetype": "text/x-python",
   "name": "python",
   "nbconvert_exporter": "python",
   "pygments_lexer": "ipython3",
   "version": "3.8.10"
  }
 },
 "nbformat": 4,
 "nbformat_minor": 5
}
